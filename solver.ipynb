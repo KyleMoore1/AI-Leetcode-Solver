{
 "cells": [
  {
   "cell_type": "markdown",
   "metadata": {},
   "source": [
    "# Get urls to each question"
   ]
  },
  {
   "cell_type": "code",
   "execution_count": 14,
   "metadata": {},
   "outputs": [
    {
     "name": "stdout",
     "output_type": "stream",
     "text": [
      "Requirement already satisfied: beautifulsoup4 in ./.venv/lib/python3.9/site-packages (4.12.3)\n",
      "Requirement already satisfied: selenium in ./.venv/lib/python3.9/site-packages (4.23.1)\n",
      "Requirement already satisfied: requests in ./.venv/lib/python3.9/site-packages (2.32.3)\n",
      "Requirement already satisfied: soupsieve>1.2 in ./.venv/lib/python3.9/site-packages (from beautifulsoup4) (2.5)\n",
      "Requirement already satisfied: websocket-client~=1.8 in ./.venv/lib/python3.9/site-packages (from selenium) (1.8.0)\n",
      "Requirement already satisfied: trio~=0.17 in ./.venv/lib/python3.9/site-packages (from selenium) (0.26.2)\n",
      "Requirement already satisfied: typing_extensions~=4.9 in ./.venv/lib/python3.9/site-packages (from selenium) (4.12.2)\n",
      "Requirement already satisfied: urllib3[socks]<3,>=1.26 in ./.venv/lib/python3.9/site-packages (from selenium) (2.2.2)\n",
      "Requirement already satisfied: certifi>=2021.10.8 in ./.venv/lib/python3.9/site-packages (from selenium) (2024.7.4)\n",
      "Requirement already satisfied: trio-websocket~=0.9 in ./.venv/lib/python3.9/site-packages (from selenium) (0.11.1)\n",
      "Requirement already satisfied: charset-normalizer<4,>=2 in ./.venv/lib/python3.9/site-packages (from requests) (3.3.2)\n",
      "Requirement already satisfied: idna<4,>=2.5 in ./.venv/lib/python3.9/site-packages (from requests) (3.7)\n",
      "Requirement already satisfied: attrs>=23.2.0 in ./.venv/lib/python3.9/site-packages (from trio~=0.17->selenium) (24.2.0)\n",
      "Requirement already satisfied: sniffio>=1.3.0 in ./.venv/lib/python3.9/site-packages (from trio~=0.17->selenium) (1.3.1)\n",
      "Requirement already satisfied: exceptiongroup in ./.venv/lib/python3.9/site-packages (from trio~=0.17->selenium) (1.2.2)\n",
      "Requirement already satisfied: outcome in ./.venv/lib/python3.9/site-packages (from trio~=0.17->selenium) (1.3.0.post0)\n",
      "Requirement already satisfied: sortedcontainers in ./.venv/lib/python3.9/site-packages (from trio~=0.17->selenium) (2.4.0)\n",
      "Requirement already satisfied: wsproto>=0.14 in ./.venv/lib/python3.9/site-packages (from trio-websocket~=0.9->selenium) (1.2.0)\n",
      "Requirement already satisfied: pysocks!=1.5.7,<2.0,>=1.5.6 in ./.venv/lib/python3.9/site-packages (from urllib3[socks]<3,>=1.26->selenium) (1.7.1)\n",
      "Requirement already satisfied: h11<1,>=0.9.0 in ./.venv/lib/python3.9/site-packages (from wsproto>=0.14->trio-websocket~=0.9->selenium) (0.14.0)\n",
      "\u001b[33mWARNING: You are using pip version 21.2.4; however, version 24.2 is available.\n",
      "You should consider upgrading via the '/Users/kylemoore/repos/AI-Leetcode-Solver/.venv/bin/python -m pip install --upgrade pip' command.\u001b[0m\n",
      "Note: you may need to restart the kernel to use updated packages.\n"
     ]
    }
   ],
   "source": [
    "%pip install beautifulsoup4 selenium requests"
   ]
  },
  {
   "cell_type": "code",
   "execution_count": 22,
   "metadata": {},
   "outputs": [
    {
     "ename": "TypeError",
     "evalue": "argument of type 'NoneType' is not iterable",
     "output_type": "error",
     "traceback": [
      "\u001b[0;31m---------------------------------------------------------------------------\u001b[0m",
      "\u001b[0;31mTypeError\u001b[0m                                 Traceback (most recent call last)",
      "Cell \u001b[0;32mIn[22], line 18\u001b[0m\n\u001b[1;32m     16\u001b[0m \u001b[38;5;28;01mfor\u001b[39;00m a_tag \u001b[38;5;129;01min\u001b[39;00m a_tags:\n\u001b[1;32m     17\u001b[0m     href \u001b[38;5;241m=\u001b[39m a_tag\u001b[38;5;241m.\u001b[39mget_attribute(\u001b[38;5;124m\"\u001b[39m\u001b[38;5;124mhref\u001b[39m\u001b[38;5;124m\"\u001b[39m)\n\u001b[0;32m---> 18\u001b[0m     \u001b[38;5;28;01mif\u001b[39;00m \u001b[38;5;124;43m\"\u001b[39;49m\u001b[38;5;124;43m/problems\u001b[39;49m\u001b[38;5;124;43m\"\u001b[39;49m\u001b[43m \u001b[49m\u001b[38;5;129;43;01min\u001b[39;49;00m\u001b[43m \u001b[49m\u001b[43mhref\u001b[49m:\n\u001b[1;32m     19\u001b[0m         urls\u001b[38;5;241m.\u001b[39mappend(href)\n\u001b[1;32m     21\u001b[0m \u001b[38;5;66;03m# Close the webdriver\u001b[39;00m\n",
      "\u001b[0;31mTypeError\u001b[0m: argument of type 'NoneType' is not iterable"
     ]
    }
   ],
   "source": [
    "\n",
    "from selenium import webdriver\n",
    "from time import sleep\n",
    "from selenium.webdriver.common.by import By\n",
    "\n",
    "url = \"https://leetcode.com/problemset/\"\n",
    "\n",
    "# Set up the Selenium webdriver\n",
    "driver = webdriver.Chrome()\n",
    "driver.get(url)\n",
    "\n",
    "urls = []\n",
    "\n",
    "sleep(5) # Wait for the page to load\n",
    "\n",
    "a_tags = driver.find_elements(By.TAG_NAME, \"a\")\n",
    "for a_tag in a_tags:\n",
    "    href = a_tag.get_attribute(\"href\")\n",
    "    if \"/problems\" in href:\n",
    "        urls.append(href)\n",
    "\n",
    "# Close the webdriver\n",
    "driver.quit()\n",
    "\n",
    "# Print the URLs\n",
    "print(urls)"
   ]
  },
  {
   "cell_type": "code",
   "execution_count": null,
   "metadata": {},
   "outputs": [],
   "source": []
  }
 ],
 "metadata": {
  "kernelspec": {
   "display_name": "Python 3",
   "language": "python",
   "name": "python3"
  },
  "language_info": {
   "codemirror_mode": {
    "name": "ipython",
    "version": 3
   },
   "file_extension": ".py",
   "mimetype": "text/x-python",
   "name": "python",
   "nbconvert_exporter": "python",
   "pygments_lexer": "ipython3",
   "version": "3.9.6"
  }
 },
 "nbformat": 4,
 "nbformat_minor": 2
}
